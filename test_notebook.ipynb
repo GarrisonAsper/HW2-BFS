{
 "cells": [
  {
   "cell_type": "code",
   "execution_count": null,
   "metadata": {},
   "outputs": [],
   "source": [
    "#test script to put it all together\n",
    "import networkx as nx \n",
    "from search import Graph\n",
    "\n",
    "graph = Graph('data/tiny_network.adjlist')\n",
    "\n",
    "traversal = graph.bfs('Martin Kampmann')"
   ]
  }
 ],
 "metadata": {
  "language_info": {
   "name": "python"
  }
 },
 "nbformat": 4,
 "nbformat_minor": 2
}
